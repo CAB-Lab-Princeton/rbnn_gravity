{
 "cells": [
  {
   "cell_type": "code",
   "execution_count": 1,
   "id": "edb73ba1-5e69-4216-ab9c-874b2255804b",
   "metadata": {},
   "outputs": [],
   "source": [
    "import rbnn_gravity\n",
    "from rbnn_gravity.run import main"
   ]
  },
  {
   "cell_type": "code",
   "execution_count": 2,
   "id": "dc11fd05-6465-44b1-9553-36859c36c97b",
   "metadata": {},
   "outputs": [],
   "source": [
    "data_dir = '/home/ca15/projects/rbnn_gravity/src/rbnn_gravity/data/'\n",
    "output_dir = 'output_dir'"
   ]
  },
  {
   "cell_type": "code",
   "execution_count": 3,
   "id": "99275260-3b0e-4c86-b573-1c284e42e216",
   "metadata": {},
   "outputs": [],
   "source": [
    "args = ['--data_dir', data_dir,\n",
    "        '--generated_videos_dir', output_dir,\n",
    "        '--trained_models_dir', output_dir,\n",
    "        '--niter', '5']"
   ]
  },
  {
   "cell_type": "code",
   "execution_count": 4,
   "id": "7e4ac6c3-62db-44df-a4da-cff00e3f2fcf",
   "metadata": {},
   "outputs": [
    {
     "ename": "RuntimeError",
     "evalue": "vector + matrix @ vector expected, got 1, 2, 0",
     "output_type": "error",
     "traceback": [
      "\u001b[0;31m---------------------------------------------------------------------------\u001b[0m",
      "\u001b[0;31mRuntimeError\u001b[0m                              Traceback (most recent call last)",
      "Cell \u001b[0;32mIn[4], line 1\u001b[0m\n\u001b[0;32m----> 1\u001b[0m \u001b[43mmain\u001b[49m\u001b[43m(\u001b[49m\u001b[38;5;241;43m*\u001b[39;49m\u001b[43margs\u001b[49m\u001b[43m)\u001b[49m\n",
      "File \u001b[0;32m~/projects/rbnn_gravity/src/rbnn_gravity/run.py:97\u001b[0m, in \u001b[0;36mmain\u001b[0;34m(*args)\u001b[0m\n\u001b[1;32m     94\u001b[0m parser \u001b[38;5;241m=\u001b[39m argparse\u001b[38;5;241m.\u001b[39mArgumentParser(description\u001b[38;5;241m=\u001b[39m\u001b[38;5;18m__doc__\u001b[39m)\n\u001b[1;32m     95\u001b[0m args \u001b[38;5;241m=\u001b[39m get_parser(parser)\u001b[38;5;241m.\u001b[39mparse_args(args)\n\u001b[0;32m---> 97\u001b[0m \u001b[43mrun_experiment\u001b[49m\u001b[43m(\u001b[49m\u001b[43margs\u001b[49m\u001b[43m)\u001b[49m\n",
      "File \u001b[0;32m~/projects/rbnn_gravity/src/rbnn_gravity/train.py:54\u001b[0m, in \u001b[0;36mrun_experiment\u001b[0;34m(args, run_train, retrain, return_net, shuffle, drop_last)\u001b[0m\n\u001b[1;32m     52\u001b[0m videos_dataloader \u001b[38;5;241m=\u001b[39m build_dataloader(args)\n\u001b[1;32m     53\u001b[0m model \u001b[38;5;241m=\u001b[39m RBNN()\n\u001b[0;32m---> 54\u001b[0m \u001b[43mtrain\u001b[49m\u001b[43m(\u001b[49m\u001b[43margs\u001b[49m\u001b[43m,\u001b[49m\u001b[43m \u001b[49m\u001b[43mmodel\u001b[49m\u001b[43m,\u001b[49m\u001b[43m \u001b[49m\u001b[43mvideos_dataloader\u001b[49m\u001b[43m,\u001b[49m\u001b[43m \u001b[49m\u001b[43mretrain\u001b[49m\u001b[38;5;241;43m=\u001b[39;49m\u001b[43mconfig\u001b[49m\u001b[38;5;241;43m.\u001b[39;49m\u001b[43mexperiment\u001b[49m\u001b[38;5;241;43m.\u001b[39;49m\u001b[43mretrain\u001b[49m\u001b[43m)\u001b[49m\n",
      "File \u001b[0;32m~/projects/rbnn_gravity/src/rbnn_gravity/train.py:28\u001b[0m, in \u001b[0;36mtrain\u001b[0;34m(args, model, videos_dataloader, retrain)\u001b[0m\n\u001b[1;32m     25\u001b[0m omega_cur, omega_next \u001b[38;5;241m=\u001b[39m omega_data[:, :t]\u001b[38;5;241m.\u001b[39mtype(torch\u001b[38;5;241m.\u001b[39mfloat), omega_data[:, t:]\u001b[38;5;241m.\u001b[39mtype(torch\u001b[38;5;241m.\u001b[39mfloat)\n\u001b[1;32m     26\u001b[0m \u001b[38;5;66;03m# print(R_cur.shape, omega_cur.shape)\u001b[39;00m\n\u001b[1;32m     27\u001b[0m \u001b[38;5;66;03m# Training over multiple vs single step (SRNN reference has some info on this) \u001b[39;00m\n\u001b[0;32m---> 28\u001b[0m R_next_hat, omega_next_hat \u001b[38;5;241m=\u001b[39m \u001b[43mmodel\u001b[49m\u001b[43m(\u001b[49m\u001b[43mR_cur\u001b[49m\u001b[38;5;241;43m.\u001b[39;49m\u001b[43msqueeze\u001b[49m\u001b[43m(\u001b[49m\u001b[43m)\u001b[49m\u001b[43m,\u001b[49m\u001b[43m \u001b[49m\u001b[43momega_cur\u001b[49m\u001b[38;5;241;43m.\u001b[39;49m\u001b[43msqueeze\u001b[49m\u001b[43m(\u001b[49m\u001b[43m)\u001b[49m\u001b[43m)\u001b[49m\n\u001b[1;32m     29\u001b[0m loss \u001b[38;5;241m=\u001b[39m loss_fcn(R_next\u001b[38;5;241m.\u001b[39msqueeze(), R_next_hat) \u001b[38;5;241m+\u001b[39m loss_fcn(omega_next\u001b[38;5;241m.\u001b[39msqueeze(), omega_next_hat)\n\u001b[1;32m     31\u001b[0m optim\u001b[38;5;241m.\u001b[39mzero_grad()\n",
      "File \u001b[0;32m~/anaconda3/envs/rbnn-gravity/lib/python3.9/site-packages/torch/nn/modules/module.py:1501\u001b[0m, in \u001b[0;36mModule._call_impl\u001b[0;34m(self, *args, **kwargs)\u001b[0m\n\u001b[1;32m   1496\u001b[0m \u001b[38;5;66;03m# If we don't have any hooks, we want to skip the rest of the logic in\u001b[39;00m\n\u001b[1;32m   1497\u001b[0m \u001b[38;5;66;03m# this function, and just call forward.\u001b[39;00m\n\u001b[1;32m   1498\u001b[0m \u001b[38;5;28;01mif\u001b[39;00m \u001b[38;5;129;01mnot\u001b[39;00m (\u001b[38;5;28mself\u001b[39m\u001b[38;5;241m.\u001b[39m_backward_hooks \u001b[38;5;129;01mor\u001b[39;00m \u001b[38;5;28mself\u001b[39m\u001b[38;5;241m.\u001b[39m_backward_pre_hooks \u001b[38;5;129;01mor\u001b[39;00m \u001b[38;5;28mself\u001b[39m\u001b[38;5;241m.\u001b[39m_forward_hooks \u001b[38;5;129;01mor\u001b[39;00m \u001b[38;5;28mself\u001b[39m\u001b[38;5;241m.\u001b[39m_forward_pre_hooks\n\u001b[1;32m   1499\u001b[0m         \u001b[38;5;129;01mor\u001b[39;00m _global_backward_pre_hooks \u001b[38;5;129;01mor\u001b[39;00m _global_backward_hooks\n\u001b[1;32m   1500\u001b[0m         \u001b[38;5;129;01mor\u001b[39;00m _global_forward_hooks \u001b[38;5;129;01mor\u001b[39;00m _global_forward_pre_hooks):\n\u001b[0;32m-> 1501\u001b[0m     \u001b[38;5;28;01mreturn\u001b[39;00m \u001b[43mforward_call\u001b[49m\u001b[43m(\u001b[49m\u001b[38;5;241;43m*\u001b[39;49m\u001b[43margs\u001b[49m\u001b[43m,\u001b[49m\u001b[43m \u001b[49m\u001b[38;5;241;43m*\u001b[39;49m\u001b[38;5;241;43m*\u001b[39;49m\u001b[43mkwargs\u001b[49m\u001b[43m)\u001b[49m\n\u001b[1;32m   1502\u001b[0m \u001b[38;5;66;03m# Do not call functions when jit is used\u001b[39;00m\n\u001b[1;32m   1503\u001b[0m full_backward_hooks, non_full_backward_hooks \u001b[38;5;241m=\u001b[39m [], []\n",
      "File \u001b[0;32m~/projects/rbnn_gravity/src/rbnn_gravity/models.py:52\u001b[0m, in \u001b[0;36mRBNN.forward\u001b[0;34m(self, R, omega)\u001b[0m\n\u001b[1;32m     50\u001b[0m alpha \u001b[38;5;241m=\u001b[39m \u001b[38;5;241m0.5\u001b[39m\n\u001b[1;32m     51\u001b[0m \u001b[38;5;66;03m#\u001b[39;00m\n\u001b[0;32m---> 52\u001b[0m p \u001b[38;5;241m=\u001b[39m \u001b[43mtorch\u001b[49m\u001b[38;5;241;43m.\u001b[39;49m\u001b[43mmv\u001b[49m\u001b[43m(\u001b[49m\u001b[38;5;28;43mself\u001b[39;49m\u001b[38;5;241;43m.\u001b[39;49m\u001b[43mI\u001b[49m\u001b[43m,\u001b[49m\u001b[43m \u001b[49m\u001b[43momega\u001b[49m\u001b[43m)\u001b[49m\n\u001b[1;32m     53\u001b[0m M \u001b[38;5;241m=\u001b[39m \u001b[38;5;28mself\u001b[39m\u001b[38;5;241m.\u001b[39mexplicit_update(R)\n\u001b[1;32m     54\u001b[0m \u001b[38;5;66;03m# print(M.shape)\u001b[39;00m\n\u001b[1;32m     55\u001b[0m \u001b[38;5;66;03m# Solving the nonlinear vector equation\u001b[39;00m\n",
      "\u001b[0;31mRuntimeError\u001b[0m: vector + matrix @ vector expected, got 1, 2, 0"
     ]
    }
   ],
   "source": [
    "main(*args)"
   ]
  },
  {
   "cell_type": "code",
   "execution_count": null,
   "id": "82d21e48-b59d-46b8-8c53-ee08861859a4",
   "metadata": {},
   "outputs": [],
   "source": []
  }
 ],
 "metadata": {
  "kernelspec": {
   "display_name": "Python 3 (ipykernel)",
   "language": "python",
   "name": "python3"
  },
  "language_info": {
   "codemirror_mode": {
    "name": "ipython",
    "version": 3
   },
   "file_extension": ".py",
   "mimetype": "text/x-python",
   "name": "python",
   "nbconvert_exporter": "python",
   "pygments_lexer": "ipython3",
   "version": "3.9.17"
  }
 },
 "nbformat": 4,
 "nbformat_minor": 5
}
